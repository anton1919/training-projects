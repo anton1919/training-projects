{
  "nbformat": 4,
  "nbformat_minor": 0,
  "metadata": {
    "colab": {
      "name": "test_task_for_clain.ipynb",
      "provenance": [],
      "collapsed_sections": []
    },
    "kernelspec": {
      "name": "python3",
      "display_name": "Python 3"
    }
  },
  "cells": [
    {
      "cell_type": "code",
      "metadata": {
        "id": "FKjsVhjARrLa"
      },
      "source": [
        "import pandas as pd\n",
        "import numpy as np\n",
        "import matplotlib.pyplot as plt"
      ],
      "execution_count": 1,
      "outputs": []
    },
    {
      "cell_type": "code",
      "metadata": {
        "id": "au95xr6FSDLQ"
      },
      "source": [
        "# Загрузка данных\n",
        "stats = pd.read_csv('address_stats.csv')\n",
        "clust = pd.read_csv('address_clust.csv')"
      ],
      "execution_count": 151,
      "outputs": []
    },
    {
      "cell_type": "code",
      "metadata": {
        "id": "u4bD09VgSTy5",
        "outputId": "480fcbb3-039d-4105-e5ba-2bc5cf906cd9",
        "colab": {
          "base_uri": "https://localhost:8080/",
          "height": 402
        }
      },
      "source": [
        "stats.head(155)"
      ],
      "execution_count": 166,
      "outputs": [
        {
          "output_type": "execute_result",
          "data": {
            "text/html": [
              "<div>\n",
              "<style scoped>\n",
              "    .dataframe tbody tr th:only-of-type {\n",
              "        vertical-align: middle;\n",
              "    }\n",
              "\n",
              "    .dataframe tbody tr th {\n",
              "        vertical-align: top;\n",
              "    }\n",
              "\n",
              "    .dataframe thead th {\n",
              "        text-align: right;\n",
              "    }\n",
              "</style>\n",
              "<table border=\"1\" class=\"dataframe\">\n",
              "  <thead>\n",
              "    <tr style=\"text-align: right;\">\n",
              "      <th></th>\n",
              "      <th>id</th>\n",
              "      <th>address_id</th>\n",
              "      <th>transaction_id</th>\n",
              "      <th>received</th>\n",
              "      <th>sent</th>\n",
              "    </tr>\n",
              "  </thead>\n",
              "  <tbody>\n",
              "    <tr>\n",
              "      <th>0</th>\n",
              "      <td>87134765</td>\n",
              "      <td>46402336</td>\n",
              "      <td>19162323</td>\n",
              "      <td>0.0</td>\n",
              "      <td>1800000.0</td>\n",
              "    </tr>\n",
              "    <tr>\n",
              "      <th>1</th>\n",
              "      <td>87134766</td>\n",
              "      <td>45919235</td>\n",
              "      <td>19162323</td>\n",
              "      <td>0.0</td>\n",
              "      <td>1071052.0</td>\n",
              "    </tr>\n",
              "    <tr>\n",
              "      <th>2</th>\n",
              "      <td>87134767</td>\n",
              "      <td>46529090</td>\n",
              "      <td>19162323</td>\n",
              "      <td>1000000.0</td>\n",
              "      <td>0.0</td>\n",
              "    </tr>\n",
              "    <tr>\n",
              "      <th>3</th>\n",
              "      <td>87134768</td>\n",
              "      <td>46529091</td>\n",
              "      <td>19162323</td>\n",
              "      <td>1821052.0</td>\n",
              "      <td>0.0</td>\n",
              "    </tr>\n",
              "    <tr>\n",
              "      <th>4</th>\n",
              "      <td>87154706</td>\n",
              "      <td>46529090</td>\n",
              "      <td>19166856</td>\n",
              "      <td>0.0</td>\n",
              "      <td>1000000.0</td>\n",
              "    </tr>\n",
              "    <tr>\n",
              "      <th>...</th>\n",
              "      <td>...</td>\n",
              "      <td>...</td>\n",
              "      <td>...</td>\n",
              "      <td>...</td>\n",
              "      <td>...</td>\n",
              "    </tr>\n",
              "    <tr>\n",
              "      <th>150</th>\n",
              "      <td>90885616</td>\n",
              "      <td>47112599</td>\n",
              "      <td>19979174</td>\n",
              "      <td>0.0</td>\n",
              "      <td>1095726.0</td>\n",
              "    </tr>\n",
              "    <tr>\n",
              "      <th>151</th>\n",
              "      <td>90885617</td>\n",
              "      <td>48480963</td>\n",
              "      <td>19979174</td>\n",
              "      <td>1001226.0</td>\n",
              "      <td>0.0</td>\n",
              "    </tr>\n",
              "    <tr>\n",
              "      <th>152</th>\n",
              "      <td>90885618</td>\n",
              "      <td>46529090</td>\n",
              "      <td>19979174</td>\n",
              "      <td>100000.0</td>\n",
              "      <td>0.0</td>\n",
              "    </tr>\n",
              "    <tr>\n",
              "      <th>153</th>\n",
              "      <td>90889612</td>\n",
              "      <td>48307397</td>\n",
              "      <td>19980139</td>\n",
              "      <td>0.0</td>\n",
              "      <td>74500.0</td>\n",
              "    </tr>\n",
              "    <tr>\n",
              "      <th>154</th>\n",
              "      <td>90889613</td>\n",
              "      <td>46529091</td>\n",
              "      <td>19980139</td>\n",
              "      <td>5500.0</td>\n",
              "      <td>0.0</td>\n",
              "    </tr>\n",
              "  </tbody>\n",
              "</table>\n",
              "<p>155 rows × 5 columns</p>\n",
              "</div>"
            ],
            "text/plain": [
              "           id  address_id  transaction_id   received       sent\n",
              "0    87134765    46402336        19162323        0.0  1800000.0\n",
              "1    87134766    45919235        19162323        0.0  1071052.0\n",
              "2    87134767    46529090        19162323  1000000.0        0.0\n",
              "3    87134768    46529091        19162323  1821052.0        0.0\n",
              "4    87154706    46529090        19166856        0.0  1000000.0\n",
              "..        ...         ...             ...        ...        ...\n",
              "150  90885616    47112599        19979174        0.0  1095726.0\n",
              "151  90885617    48480963        19979174  1001226.0        0.0\n",
              "152  90885618    46529090        19979174   100000.0        0.0\n",
              "153  90889612    48307397        19980139        0.0    74500.0\n",
              "154  90889613    46529091        19980139     5500.0        0.0\n",
              "\n",
              "[155 rows x 5 columns]"
            ]
          },
          "metadata": {
            "tags": []
          },
          "execution_count": 166
        }
      ]
    },
    {
      "cell_type": "code",
      "metadata": {
        "id": "6vmuJI7NSZIT",
        "outputId": "2c7e45b1-d16a-4c4f-ce3a-1e8ad0bf6ea1",
        "colab": {
          "base_uri": "https://localhost:8080/",
          "height": 402
        }
      },
      "source": [
        "clust.head(155)"
      ],
      "execution_count": 167,
      "outputs": [
        {
          "output_type": "execute_result",
          "data": {
            "text/html": [
              "<div>\n",
              "<style scoped>\n",
              "    .dataframe tbody tr th:only-of-type {\n",
              "        vertical-align: middle;\n",
              "    }\n",
              "\n",
              "    .dataframe tbody tr th {\n",
              "        vertical-align: top;\n",
              "    }\n",
              "\n",
              "    .dataframe thead th {\n",
              "        text-align: right;\n",
              "    }\n",
              "</style>\n",
              "<table border=\"1\" class=\"dataframe\">\n",
              "  <thead>\n",
              "    <tr style=\"text-align: right;\">\n",
              "      <th></th>\n",
              "      <th>address_id</th>\n",
              "      <th>cluster_id</th>\n",
              "    </tr>\n",
              "  </thead>\n",
              "  <tbody>\n",
              "    <tr>\n",
              "      <th>0</th>\n",
              "      <td>71413451</td>\n",
              "      <td>1</td>\n",
              "    </tr>\n",
              "    <tr>\n",
              "      <th>1</th>\n",
              "      <td>71411914</td>\n",
              "      <td>1</td>\n",
              "    </tr>\n",
              "    <tr>\n",
              "      <th>2</th>\n",
              "      <td>71410369</td>\n",
              "      <td>1</td>\n",
              "    </tr>\n",
              "    <tr>\n",
              "      <th>3</th>\n",
              "      <td>71410100</td>\n",
              "      <td>1</td>\n",
              "    </tr>\n",
              "    <tr>\n",
              "      <th>4</th>\n",
              "      <td>71410040</td>\n",
              "      <td>1</td>\n",
              "    </tr>\n",
              "    <tr>\n",
              "      <th>...</th>\n",
              "      <td>...</td>\n",
              "      <td>...</td>\n",
              "    </tr>\n",
              "    <tr>\n",
              "      <th>150</th>\n",
              "      <td>70610601</td>\n",
              "      <td>1</td>\n",
              "    </tr>\n",
              "    <tr>\n",
              "      <th>151</th>\n",
              "      <td>70564583</td>\n",
              "      <td>1</td>\n",
              "    </tr>\n",
              "    <tr>\n",
              "      <th>152</th>\n",
              "      <td>70589431</td>\n",
              "      <td>1</td>\n",
              "    </tr>\n",
              "    <tr>\n",
              "      <th>153</th>\n",
              "      <td>70579434</td>\n",
              "      <td>1</td>\n",
              "    </tr>\n",
              "    <tr>\n",
              "      <th>154</th>\n",
              "      <td>70580791</td>\n",
              "      <td>1</td>\n",
              "    </tr>\n",
              "  </tbody>\n",
              "</table>\n",
              "<p>155 rows × 2 columns</p>\n",
              "</div>"
            ],
            "text/plain": [
              "     address_id  cluster_id\n",
              "0      71413451           1\n",
              "1      71411914           1\n",
              "2      71410369           1\n",
              "3      71410100           1\n",
              "4      71410040           1\n",
              "..          ...         ...\n",
              "150    70610601           1\n",
              "151    70564583           1\n",
              "152    70589431           1\n",
              "153    70579434           1\n",
              "154    70580791           1\n",
              "\n",
              "[155 rows x 2 columns]"
            ]
          },
          "metadata": {
            "tags": []
          },
          "execution_count": 167
        }
      ]
    },
    {
      "cell_type": "code",
      "metadata": {
        "id": "f50EuR65SgGO"
      },
      "source": [
        "# Объединение таблиц\n",
        "all_data = pd.merge(stats, clust, on='address_id', how='outer')\n",
        "\n",
        "# Присвоение всем внешним адресам кластера 0  \n",
        "all_data.fillna(0, inplace=True)"
      ],
      "execution_count": 155,
      "outputs": []
    },
    {
      "cell_type": "code",
      "metadata": {
        "id": "j550MsrQZ_kt",
        "outputId": "3cb54e28-583f-4109-e0d6-f4ca1bd394fc",
        "colab": {
          "base_uri": "https://localhost:8080/",
          "height": 84
        }
      },
      "source": [
        "all_data['cluster_id'].value_counts()"
      ],
      "execution_count": 156,
      "outputs": [
        {
          "output_type": "execute_result",
          "data": {
            "text/plain": [
              "1.0    32949\n",
              "2.0    25526\n",
              "0.0    18249\n",
              "Name: cluster_id, dtype: int64"
            ]
          },
          "metadata": {
            "tags": []
          },
          "execution_count": 156
        }
      ]
    },
    {
      "cell_type": "code",
      "metadata": {
        "id": "lFGfNYN05CUE",
        "outputId": "4d6c33a3-50fc-4d65-f9e3-a71771fee485",
        "colab": {
          "base_uri": "https://localhost:8080/",
          "height": 195
        }
      },
      "source": [
        "all_data.head(5)"
      ],
      "execution_count": 158,
      "outputs": [
        {
          "output_type": "execute_result",
          "data": {
            "text/html": [
              "<div>\n",
              "<style scoped>\n",
              "    .dataframe tbody tr th:only-of-type {\n",
              "        vertical-align: middle;\n",
              "    }\n",
              "\n",
              "    .dataframe tbody tr th {\n",
              "        vertical-align: top;\n",
              "    }\n",
              "\n",
              "    .dataframe thead th {\n",
              "        text-align: right;\n",
              "    }\n",
              "</style>\n",
              "<table border=\"1\" class=\"dataframe\">\n",
              "  <thead>\n",
              "    <tr style=\"text-align: right;\">\n",
              "      <th></th>\n",
              "      <th>id</th>\n",
              "      <th>address_id</th>\n",
              "      <th>transaction_id</th>\n",
              "      <th>received</th>\n",
              "      <th>sent</th>\n",
              "      <th>cluster_id</th>\n",
              "    </tr>\n",
              "  </thead>\n",
              "  <tbody>\n",
              "    <tr>\n",
              "      <th>0</th>\n",
              "      <td>87134765</td>\n",
              "      <td>46402336</td>\n",
              "      <td>19162323</td>\n",
              "      <td>0.0</td>\n",
              "      <td>1800000.0</td>\n",
              "      <td>0.0</td>\n",
              "    </tr>\n",
              "    <tr>\n",
              "      <th>1</th>\n",
              "      <td>87154708</td>\n",
              "      <td>46402336</td>\n",
              "      <td>19166856</td>\n",
              "      <td>900000.0</td>\n",
              "      <td>0.0</td>\n",
              "      <td>0.0</td>\n",
              "    </tr>\n",
              "    <tr>\n",
              "      <th>2</th>\n",
              "      <td>87335816</td>\n",
              "      <td>46402336</td>\n",
              "      <td>19205422</td>\n",
              "      <td>0.0</td>\n",
              "      <td>900000.0</td>\n",
              "      <td>0.0</td>\n",
              "    </tr>\n",
              "    <tr>\n",
              "      <th>3</th>\n",
              "      <td>88124870</td>\n",
              "      <td>46402336</td>\n",
              "      <td>19374859</td>\n",
              "      <td>5500.0</td>\n",
              "      <td>0.0</td>\n",
              "      <td>0.0</td>\n",
              "    </tr>\n",
              "    <tr>\n",
              "      <th>4</th>\n",
              "      <td>95910795</td>\n",
              "      <td>46402336</td>\n",
              "      <td>21055878</td>\n",
              "      <td>0.0</td>\n",
              "      <td>5500.0</td>\n",
              "      <td>0.0</td>\n",
              "    </tr>\n",
              "  </tbody>\n",
              "</table>\n",
              "</div>"
            ],
            "text/plain": [
              "         id  address_id  transaction_id  received       sent  cluster_id\n",
              "0  87134765    46402336        19162323       0.0  1800000.0         0.0\n",
              "1  87154708    46402336        19166856  900000.0        0.0         0.0\n",
              "2  87335816    46402336        19205422       0.0   900000.0         0.0\n",
              "3  88124870    46402336        19374859    5500.0        0.0         0.0\n",
              "4  95910795    46402336        21055878       0.0     5500.0         0.0"
            ]
          },
          "metadata": {
            "tags": []
          },
          "execution_count": 158
        }
      ]
    },
    {
      "cell_type": "code",
      "metadata": {
        "id": "OVc_mP0LTzCA",
        "outputId": "fb8a3179-2636-4e4b-e06b-987efcd4c319",
        "colab": {
          "base_uri": "https://localhost:8080/",
          "height": 235
        }
      },
      "source": [
        "all_data.info()"
      ],
      "execution_count": 157,
      "outputs": [
        {
          "output_type": "stream",
          "text": [
            "<class 'pandas.core.frame.DataFrame'>\n",
            "Int64Index: 76724 entries, 0 to 76723\n",
            "Data columns (total 6 columns):\n",
            " #   Column          Non-Null Count  Dtype  \n",
            "---  ------          --------------  -----  \n",
            " 0   id              76724 non-null  int64  \n",
            " 1   address_id      76724 non-null  int64  \n",
            " 2   transaction_id  76724 non-null  int64  \n",
            " 3   received        76724 non-null  float64\n",
            " 4   sent            76724 non-null  float64\n",
            " 5   cluster_id      76724 non-null  float64\n",
            "dtypes: float64(3), int64(3)\n",
            "memory usage: 4.1 MB\n"
          ],
          "name": "stdout"
        }
      ]
    },
    {
      "cell_type": "code",
      "metadata": {
        "id": "RqdYoiobrkTY"
      },
      "source": [
        "# Присвоение номерам кластеров типа int\n",
        "all_data['cluster_id'].apply(lambda x: int(x));"
      ],
      "execution_count": 159,
      "outputs": []
    },
    {
      "cell_type": "code",
      "metadata": {
        "id": "F952GU_jXP0Q"
      },
      "source": [
        "def how_much_btc_sent(data, cluster_id_from, cluster_id_to):\n",
        "  '''\n",
        "  Функция принимает на вход все данные по транзакциям, номера кластеров, транзакции которых нужно посчитать.\n",
        "  На выходе показывает объем транзакциq в btc между кластерами.\n",
        "  '''\n",
        "  # Создание отдельных таблиц для каждого кластера из общих данных\n",
        "  cluster_id_from_data = data[data['cluster_id'] == cluster_id_from][['address_id','transaction_id', 'received', 'sent', 'cluster_id']]\n",
        "  cluster_id_to_data = data[data['cluster_id'] == cluster_id_to][['address_id','transaction_id', 'received', 'sent', 'cluster_id']]\n",
        "  \n",
        "  # Объединение по транзакциям и чистка данных\n",
        "  data_transactions = pd.merge(cluster_id_from_data, cluster_id_to_data, on='transaction_id', how='left')\n",
        "  data_transactions.dropna(inplace=True)\n",
        "  data_transactions.drop_duplicates(inplace=True)\n",
        "\n",
        "  # Вывод результата в btc\n",
        "  print('Кластер {} отправил в кластер {} : {} btc'.format(cluster_id_from, cluster_id_to, data_transactions['sent_x'].sum() / 10 ** 8))\n",
        "  print('Кластер {} отправил в кластер {} : {} btc'.format(cluster_id_to, cluster_id_from, data_transactions['sent_y'].sum() / 10 ** 8))"
      ],
      "execution_count": 162,
      "outputs": []
    },
    {
      "cell_type": "code",
      "metadata": {
        "id": "7vpPDHGr2q5G",
        "outputId": "d19057b5-6b00-48c8-f603-b059e20a012f",
        "colab": {
          "base_uri": "https://localhost:8080/",
          "height": 50
        }
      },
      "source": [
        "# Сколько биткоинов отправил кластер 1 в кластер 2 и сколько кластер 2 отправил в кластер 1?\n",
        "how_much_btc_sent(all_data, 1, 2)"
      ],
      "execution_count": 163,
      "outputs": [
        {
          "output_type": "stream",
          "text": [
            "Кластер 1 отправил в кластер 2 : 80.5323524 btc\n",
            "Кластер 2 отправил в кластер 1 : 515.62110147 btc\n"
          ],
          "name": "stdout"
        }
      ]
    },
    {
      "cell_type": "code",
      "metadata": {
        "id": "W30RiQ0kYDpP",
        "outputId": "0964b5e0-1cc3-470f-f1bb-29a8da35764a",
        "colab": {
          "base_uri": "https://localhost:8080/",
          "height": 50
        }
      },
      "source": [
        "# Сколько биткоинов отправил кластер 1 в кластер 0 и сколько кластер 0 отправил в кластер 1?\n",
        "how_much_btc_sent(all_data, 1, 0)"
      ],
      "execution_count": 164,
      "outputs": [
        {
          "output_type": "stream",
          "text": [
            "Кластер 1 отправил в кластер 0 : 542.03460437 btc\n",
            "Кластер 0 отправил в кластер 1 : 1016.06585209 btc\n"
          ],
          "name": "stdout"
        }
      ]
    },
    {
      "cell_type": "code",
      "metadata": {
        "id": "2LYucKNnlzDD",
        "outputId": "6adbb21b-d6bd-4a82-8f12-acce859ec712",
        "colab": {
          "base_uri": "https://localhost:8080/",
          "height": 50
        }
      },
      "source": [
        "# Сколько биткоинов отправил кластер 2 в кластер 0 и сколько кластер 0 отправил в кластер 2?\n",
        "how_much_btc_sent(all_data, 2, 0)"
      ],
      "execution_count": 165,
      "outputs": [
        {
          "output_type": "stream",
          "text": [
            "Кластер 2 отправил в кластер 0 : 3.02852 btc\n",
            "Кластер 0 отправил в кластер 2 : 30.65603309 btc\n"
          ],
          "name": "stdout"
        }
      ]
    },
    {
      "cell_type": "code",
      "metadata": {
        "id": "xM-OvykjQau4"
      },
      "source": [
        "def how_much_fee(data, cluster_id):\n",
        "  '''\n",
        "  Функция принимает на вход все данные по транзакциям и номер кластера.\n",
        "  На выходе показывает сумму fee потраченную на обработку транзакций майнерами. \n",
        "  '''\n",
        "  cluster_id_data = data[data['cluster_id'] == cluster_id]\n",
        "  fee = abs(cluster_id_data['sent'].sum() - cluster_id_data['received'].sum()) / 10 ** 8\n",
        "\n",
        "  print('Кластер {} потратил на fee : {} btc'.format(cluster_id, fee))"
      ],
      "execution_count": 193,
      "outputs": []
    },
    {
      "cell_type": "code",
      "metadata": {
        "id": "3MZGNqIeT3KC",
        "outputId": "73493113-e2fe-48c4-a8d2-2e82fa2c52ad",
        "colab": {
          "base_uri": "https://localhost:8080/",
          "height": 50
        }
      },
      "source": [
        "# Сколько биткоинов кластер 1 и кластер 2 потратил на fee?\n",
        "\n",
        "how_much_fee(all_data, 1)\n",
        "how_much_fee(all_data, 2)"
      ],
      "execution_count": 194,
      "outputs": [
        {
          "output_type": "stream",
          "text": [
            "Кластер 1 потратил на fee : 2.475371 btc\n",
            "Кластер 2 потратил на fee : 2.45212861 btc\n"
          ],
          "name": "stdout"
        }
      ]
    }
  ]
}